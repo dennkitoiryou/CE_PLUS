{
  "nbformat": 4,
  "nbformat_minor": 0,
  "metadata": {
    "colab": {
      "name": "make_ Two-dimensional_array_list.ipynb ",
      "provenance": [],
      "authorship_tag": "ABX9TyMSNlDcp7SOKcrN3jSwbmEH",
      "include_colab_link": true
    },
    "kernelspec": {
      "name": "python3",
      "display_name": "Python 3"
    }
  },
  "cells": [
    {
      "cell_type": "markdown",
      "metadata": {
        "id": "view-in-github",
        "colab_type": "text"
      },
      "source": [
        "<a href=\"https://colab.research.google.com/github/dennkitotaichi/CE_PLUS/blob/master/make__Two_dimensional_array_list.ipynb\" target=\"_parent\"><img src=\"https://colab.research.google.com/assets/colab-badge.svg\" alt=\"Open In Colab\"/></a>"
      ]
    },
    {
      "cell_type": "code",
      "metadata": {
        "id": "UMrHf3k20rFT",
        "colab_type": "code",
        "colab": {
          "base_uri": "https://localhost:8080/",
          "height": 253
        },
        "outputId": "c94fe598-a527-4a14-87f4-4b171c8c6378"
      },
      "source": [
        "mylist = [[0]*2 for i in range(3)]\n",
        "print(mylist)\n",
        "\n",
        "mylist1_1 = mylist\n",
        "print(mylist1_1)\n",
        "mylist1_1[2][1]=100\n",
        "print(mylist1_1)\n"
      ],
      "execution_count": 68,
      "outputs": [
        {
          "output_type": "stream",
          "text": [
            "[[0, 0], [0, 0], [0, 0]]\n",
            "[[0, 0], [0, 0], [0, 0]]\n"
          ],
          "name": "stdout"
        },
        {
          "output_type": "error",
          "ename": "IndexError",
          "evalue": "ignored",
          "traceback": [
            "\u001b[0;31m---------------------------------------------------------------------------\u001b[0m",
            "\u001b[0;31mIndexError\u001b[0m                                Traceback (most recent call last)",
            "\u001b[0;32m<ipython-input-68-053b5a003e91>\u001b[0m in \u001b[0;36m<module>\u001b[0;34m()\u001b[0m\n\u001b[1;32m      4\u001b[0m \u001b[0mmylist1_1\u001b[0m \u001b[0;34m=\u001b[0m \u001b[0mmylist\u001b[0m\u001b[0;34m\u001b[0m\u001b[0;34m\u001b[0m\u001b[0m\n\u001b[1;32m      5\u001b[0m \u001b[0mprint\u001b[0m\u001b[0;34m(\u001b[0m\u001b[0mmylist1_1\u001b[0m\u001b[0;34m)\u001b[0m\u001b[0;34m\u001b[0m\u001b[0;34m\u001b[0m\u001b[0m\n\u001b[0;32m----> 6\u001b[0;31m \u001b[0mmylist1_1\u001b[0m\u001b[0;34m[\u001b[0m\u001b[0;36m2\u001b[0m\u001b[0;34m]\u001b[0m\u001b[0;34m[\u001b[0m\u001b[0;36m2\u001b[0m\u001b[0;34m]\u001b[0m\u001b[0;34m=\u001b[0m\u001b[0;36m100\u001b[0m\u001b[0;34m\u001b[0m\u001b[0;34m\u001b[0m\u001b[0m\n\u001b[0m\u001b[1;32m      7\u001b[0m \u001b[0mprint\u001b[0m\u001b[0;34m(\u001b[0m\u001b[0mmylist1_1\u001b[0m\u001b[0;34m)\u001b[0m\u001b[0;34m\u001b[0m\u001b[0;34m\u001b[0m\u001b[0m\n",
            "\u001b[0;31mIndexError\u001b[0m: list assignment index out of range"
          ]
        }
      ]
    },
    {
      "cell_type": "code",
      "metadata": {
        "id": "ydCYTy9o1BMg",
        "colab_type": "code",
        "colab": {
          "base_uri": "https://localhost:8080/",
          "height": 221
        },
        "outputId": "14534f06-d794-4286-ca06-6bff9b7832b3"
      },
      "source": [
        "for i in range(3):\n",
        "  for w in range(2):\n",
        "\n",
        "   print(i)\n",
        "   print(w)"
      ],
      "execution_count": 65,
      "outputs": [
        {
          "output_type": "stream",
          "text": [
            "0\n",
            "0\n",
            "0\n",
            "1\n",
            "1\n",
            "0\n",
            "1\n",
            "1\n",
            "2\n",
            "0\n",
            "2\n",
            "1\n"
          ],
          "name": "stdout"
        }
      ]
    },
    {
      "cell_type": "code",
      "metadata": {
        "id": "wzjqKw_40NZ9",
        "colab_type": "code",
        "colab": {
          "base_uri": "https://localhost:8080/",
          "height": 221
        },
        "outputId": "5e851eb3-539c-4dfd-e89c-47fbd4b1d218"
      },
      "source": [
        "\n",
        "def Enter_data(a, b):\n",
        " for i in range(a):\n",
        "  for w in range(b):\n",
        "   print(w)\n",
        "   print(i)\n",
        "\n",
        "\n",
        "Enter_data(2, 3)"
      ],
      "execution_count": 70,
      "outputs": [
        {
          "output_type": "stream",
          "text": [
            "0\n",
            "0\n",
            "1\n",
            "0\n",
            "2\n",
            "0\n",
            "0\n",
            "1\n",
            "1\n",
            "1\n",
            "2\n",
            "1\n"
          ],
          "name": "stdout"
        }
      ]
    },
    {
      "cell_type": "code",
      "metadata": {
        "id": "4Xng0tME19f8",
        "colab_type": "code",
        "colab": {
          "base_uri": "https://localhost:8080/",
          "height": 221
        },
        "outputId": "851a7c79-a28a-41a8-eaff-3c37893a9796"
      },
      "source": [
        "Enter_data(2, 3)"
      ],
      "execution_count": 71,
      "outputs": [
        {
          "output_type": "stream",
          "text": [
            "0\n",
            "0\n",
            "1\n",
            "0\n",
            "2\n",
            "0\n",
            "0\n",
            "1\n",
            "1\n",
            "1\n",
            "2\n",
            "1\n"
          ],
          "name": "stdout"
        }
      ]
    },
    {
      "cell_type": "code",
      "metadata": {
        "id": "m8AhOjiF2PwF",
        "colab_type": "code",
        "colab": {
          "base_uri": "https://localhost:8080/",
          "height": 85
        },
        "outputId": "4f74a3bb-e872-4f74-8d93-d90a8adbc6a2"
      },
      "source": [
        "mylist2 = mylist\n",
        "\n",
        "def Enter_data2(a, b):\n",
        " for i in range(a):\n",
        "  for w in range(b):\n",
        "   print(w,i)\n",
        "\n",
        "   mylist2[w][0]=w\n",
        "   mylist2[w][1]=w\n",
        "\n",
        "  return mylist2\n",
        "\n",
        "make_mylist = Enter_data2(2, 3)\n",
        "\n",
        "print(make_mylist)"
      ],
      "execution_count": 84,
      "outputs": [
        {
          "output_type": "stream",
          "text": [
            "0 0\n",
            "1 0\n",
            "2 0\n",
            "[[0, 0], [1, 1], [2, 2]]\n"
          ],
          "name": "stdout"
        }
      ]
    },
    {
      "cell_type": "code",
      "metadata": {
        "id": "a8z-xoo34UXk",
        "colab_type": "code",
        "colab": {
          "base_uri": "https://localhost:8080/",
          "height": 221
        },
        "outputId": "e0eb2c20-1592-4538-a0be-76a9c0e9bfa8"
      },
      "source": [
        "mylist2 = mylist\n",
        "\n",
        "def Enter_data2(a, b,c,d):\n",
        " for i in range(a):\n",
        "  for w in range(b):\n",
        "   print(w,i)\n",
        "   mylist2[w][0]=c\n",
        "   mylist2[w][1]=d\n",
        "  return mylist2\n",
        "\n",
        "make_mylist = Enter_data2(2, 3,0,0)\n",
        "\n",
        "print(make_mylist)\n",
        "\n",
        "make_mylist = Enter_data2(2, 3,1,2)\n",
        "\n",
        "print(make_mylist)\n",
        "\n",
        "make_mylist = Enter_data2(2, 3,1,5)\n",
        "\n",
        "print(make_mylist)"
      ],
      "execution_count": 89,
      "outputs": [
        {
          "output_type": "stream",
          "text": [
            "0 0\n",
            "1 0\n",
            "2 0\n",
            "[[0, 0], [0, 0], [0, 0]]\n",
            "0 0\n",
            "1 0\n",
            "2 0\n",
            "[[1, 2], [1, 2], [1, 2]]\n",
            "0 0\n",
            "1 0\n",
            "2 0\n",
            "[[1, 5], [1, 5], [1, 5]]\n"
          ],
          "name": "stdout"
        }
      ]
    },
    {
      "cell_type": "code",
      "metadata": {
        "id": "F727ty9e1Un4",
        "colab_type": "code",
        "colab": {
          "base_uri": "https://localhost:8080/",
          "height": 221
        },
        "outputId": "e3e9d8d0-de6b-4fd6-8e21-17e1ad76ebd0"
      },
      "source": [
        "mylist2 = mylist\n",
        "print(mylist2)\n",
        "mylist2[1][0]=100\n",
        "print(mylist2)\n",
        "mylist3 = mylist\n",
        "print(mylist3)\n",
        "\n",
        "mylist4 = list(range(1,7))\n",
        "print(mylist4)\n",
        "\n",
        "for w in range(2):\n",
        "  print(w)\n",
        "  mylist3[0][w]=w\n",
        "  print(mylist3)\n",
        "\n",
        "\n",
        "for w in range(2):\n",
        "  print(w)\n",
        "  mylist3[w][0]=w\n",
        "  print(mylist3)"
      ],
      "execution_count": 93,
      "outputs": [
        {
          "output_type": "stream",
          "text": [
            "[[1, 5], [1, 5], [1, 5]]\n",
            "[[1, 5], [100, 5], [1, 5]]\n",
            "[[1, 5], [100, 5], [1, 5]]\n",
            "[1, 2, 3, 4, 5, 6]\n",
            "0\n",
            "[[0, 5], [100, 5], [1, 5]]\n",
            "1\n",
            "[[0, 1], [100, 5], [1, 5]]\n",
            "0\n",
            "[[0, 1], [100, 5], [1, 5]]\n",
            "1\n",
            "[[0, 1], [1, 5], [1, 5]]\n"
          ],
          "name": "stdout"
        }
      ]
    },
    {
      "cell_type": "code",
      "metadata": {
        "id": "O3ciNuwh1VO0",
        "colab_type": "code",
        "colab": {
          "base_uri": "https://localhost:8080/",
          "height": 425
        },
        "outputId": "3066a018-39b2-48ae-8387-018f10312d1b"
      },
      "source": [
        "lookback = 1\n",
        "\n",
        "for i in range(len(mylist4)):\n",
        " j = 0 - lookback + i\n",
        " k = j + lookback\n",
        "        \n",
        " mylist3[0][0] = mylist4[j]\n",
        " mylist3[0][1] = mylist4[k]\n",
        "\n",
        " print(\"tugihaXdayo\")\n",
        " print(mylist3)\n",
        " print(\"tugihaYdayo\")\n",
        " print(mylist3)"
      ],
      "execution_count": 94,
      "outputs": [
        {
          "output_type": "stream",
          "text": [
            "tugihaXdayo\n",
            "[[6, 1], [1, 5], [1, 5]]\n",
            "tugihaYdayo\n",
            "[[6, 1], [1, 5], [1, 5]]\n",
            "tugihaXdayo\n",
            "[[1, 2], [1, 5], [1, 5]]\n",
            "tugihaYdayo\n",
            "[[1, 2], [1, 5], [1, 5]]\n",
            "tugihaXdayo\n",
            "[[2, 3], [1, 5], [1, 5]]\n",
            "tugihaYdayo\n",
            "[[2, 3], [1, 5], [1, 5]]\n",
            "tugihaXdayo\n",
            "[[3, 4], [1, 5], [1, 5]]\n",
            "tugihaYdayo\n",
            "[[3, 4], [1, 5], [1, 5]]\n",
            "tugihaXdayo\n",
            "[[4, 5], [1, 5], [1, 5]]\n",
            "tugihaYdayo\n",
            "[[4, 5], [1, 5], [1, 5]]\n",
            "tugihaXdayo\n",
            "[[5, 6], [1, 5], [1, 5]]\n",
            "tugihaYdayo\n",
            "[[5, 6], [1, 5], [1, 5]]\n"
          ],
          "name": "stdout"
        }
      ]
    },
    {
      "cell_type": "code",
      "metadata": {
        "id": "JLznKUYo3PF-",
        "colab_type": "code",
        "colab": {}
      },
      "source": [
        ""
      ],
      "execution_count": null,
      "outputs": []
    },
    {
      "cell_type": "code",
      "metadata": {
        "id": "1z7ADz3D3PJe",
        "colab_type": "code",
        "colab": {}
      },
      "source": [
        ""
      ],
      "execution_count": null,
      "outputs": []
    }
  ]
}